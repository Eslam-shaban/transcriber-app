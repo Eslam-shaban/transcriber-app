{
 "cells": [
  {
   "cell_type": "markdown",
   "id": "4aa94459",
   "metadata": {},
   "source": [
    "## 1.API key"
   ]
  },
  {
   "cell_type": "code",
   "execution_count": 2,
   "id": "eb768486",
   "metadata": {},
   "outputs": [],
   "source": [
    "api_key = \"YOUR_API_KEY\""
   ]
  },
  {
   "cell_type": "markdown",
   "id": "b6bdc362",
   "metadata": {},
   "source": [
    "## 2.Retrieving audio from youtube video"
   ]
  },
  {
   "cell_type": "code",
   "execution_count": 3,
   "id": "66ba9173",
   "metadata": {},
   "outputs": [],
   "source": [
    "#!pip install pytube"
   ]
  },
  {
   "cell_type": "code",
   "execution_count": 4,
   "id": "262f5fb0",
   "metadata": {},
   "outputs": [],
   "source": [
    "from pytube import YouTube\n",
    "\n",
    "video = YouTube('https://www.youtube.com/watch?v=iPj6QKMd8qA&list=PLtqF5YXg7GLmCvTswG32NqQypOuYkPRUE&index=29')\n",
    "yt = video.streams.get_audio_only()"
   ]
  },
  {
   "cell_type": "code",
   "execution_count": 5,
   "id": "625870db",
   "metadata": {},
   "outputs": [
    {
     "data": {
      "text/plain": [
       "'e:\\\\Study files\\\\Data Scientist & Analysis\\\\09 - Projects\\\\Data Science Projects\\\\Data professor\\\\transcriber-app\\\\notebook\\\\Ep 1 How to create your first Streamlit web app in 1 minute shorts.mp4'"
      ]
     },
     "execution_count": 5,
     "metadata": {},
     "output_type": "execute_result"
    }
   ],
   "source": [
    "yt.download()"
   ]
  },
  {
   "cell_type": "code",
   "execution_count": 6,
   "id": "6c57685a",
   "metadata": {},
   "outputs": [
    {
     "name": "stdout",
     "output_type": "stream",
     "text": [
      "e:\\Study files\\Data Scientist & Analysis\\09 - Projects\\Data Science Projects\\Data professor\\transcriber-app\\notebook\\Ep 1 How to create your first Streamlit web app in 1 minute shorts.mp4\n"
     ]
    }
   ],
   "source": [
    "import os\n",
    "\n",
    "current_dir = os.getcwd()\n",
    "\n",
    "for file_name in os.listdir(current_dir):\n",
    "    if file_name.endswith('.mp4'):\n",
    "        mp4_file = os.path.join(current_dir,file_name)\n",
    "        print(mp4_file)"
   ]
  },
  {
   "cell_type": "markdown",
   "id": "b5339266",
   "metadata": {},
   "source": [
    "## 3.upload youtube audio file to AssemblyAI"
   ]
  },
  {
   "cell_type": "code",
   "execution_count": 7,
   "id": "08388011",
   "metadata": {},
   "outputs": [],
   "source": [
    "import sys\n",
    "import time \n",
    "import requests\n",
    "\n",
    "file_name = mp4_file\n",
    "\n",
    "def read_file(filename, chunk_size=5242880):\n",
    "    with open(filename, 'rb') as f:\n",
    "        while True:\n",
    "            data = f.read(chunk_size)\n",
    "            if not data:\n",
    "                break\n",
    "            yield data\n",
    "\n",
    "headers = {'authorization':api_key}\n",
    "response = requests.post(\"https://api.assemblyai.com/v2/upload\",\n",
    "                       headers=headers,\n",
    "                       data=read_file(file_name))"
   ]
  },
  {
   "cell_type": "code",
   "execution_count": 8,
   "id": "e6ee4961",
   "metadata": {},
   "outputs": [
    {
     "name": "stdout",
     "output_type": "stream",
     "text": [
      "https://cdn.assemblyai.com/upload/e5bbcd75-f62c-46db-af15-0db3bdeb3c7c\n"
     ]
    }
   ],
   "source": [
    "audio_url = response.json()['upload_url']\n",
    "print(audio_url)"
   ]
  },
  {
   "cell_type": "markdown",
   "id": "3707edbe",
   "metadata": {},
   "source": [
    "## 4.Transcribe uploaded audio file"
   ]
  },
  {
   "cell_type": "code",
   "execution_count": 9,
   "id": "bc626f8e",
   "metadata": {},
   "outputs": [
    {
     "name": "stdout",
     "output_type": "stream",
     "text": [
      "{'id': '6jyu9mmvv3-e421-4789-93d9-10f08c5b6994', 'language_model': 'assemblyai_default', 'acoustic_model': 'assemblyai_default', 'language_code': 'en_us', 'status': 'queued', 'audio_url': 'https://cdn.assemblyai.com/upload/e5bbcd75-f62c-46db-af15-0db3bdeb3c7c', 'text': None, 'words': None, 'utterances': None, 'confidence': None, 'audio_duration': None, 'punctuate': True, 'format_text': True, 'dual_channel': None, 'webhook_url': None, 'webhook_status_code': None, 'webhook_auth': False, 'webhook_auth_header_name': None, 'speed_boost': False, 'auto_highlights_result': None, 'auto_highlights': False, 'audio_start_from': None, 'audio_end_at': None, 'word_boost': [], 'boost_param': None, 'filter_profanity': False, 'redact_pii': False, 'redact_pii_audio': False, 'redact_pii_audio_quality': None, 'redact_pii_policies': None, 'redact_pii_sub': None, 'speaker_labels': False, 'content_safety': False, 'iab_categories': False, 'content_safety_labels': {}, 'iab_categories_result': {}, 'language_detection': False, 'custom_spelling': None, 'throttled': None, 'auto_chapters': False, 'summarization': False, 'summary_type': None, 'summary_model': None, 'custom_topics': False, 'topics': [], 'speech_threshold': None, 'disfluencies': False, 'sentiment_analysis': False, 'sentiment_analysis_results': None, 'chapters': None, 'entity_detection': False, 'entities': None, 'speakers_expected': None}\n"
     ]
    }
   ],
   "source": [
    "endpoint = \"https://api.assemblyai.com/v2/transcript\"\n",
    "\n",
    "json = {\n",
    "    \"audio_url\":audio_url\n",
    "}\n",
    "\n",
    "headers = {\n",
    "    \"authorization\":api_key,\n",
    "    \"content-type\":\"application/json\"\n",
    "}\n",
    "\n",
    "transcript_input_response = requests.post(endpoint, headers=headers, json=json)\n",
    "print(transcript_input_response.json())"
   ]
  },
  {
   "cell_type": "markdown",
   "id": "20e59c93",
   "metadata": {},
   "source": [
    "## 5.Extract Transcript ID "
   ]
  },
  {
   "cell_type": "code",
   "execution_count": 10,
   "id": "a6af067c",
   "metadata": {},
   "outputs": [
    {
     "name": "stdout",
     "output_type": "stream",
     "text": [
      "6jyu9mmvv3-e421-4789-93d9-10f08c5b6994\n"
     ]
    }
   ],
   "source": [
    "transcript_id = transcript_input_response.json()['id']\n",
    "print(transcript_id)"
   ]
  },
  {
   "cell_type": "markdown",
   "id": "635ce1ff",
   "metadata": {},
   "source": [
    "## 6.Retrieve transcription results"
   ]
  },
  {
   "cell_type": "code",
   "execution_count": 18,
   "id": "1a21082b",
   "metadata": {},
   "outputs": [],
   "source": [
    "endpoint = f\"https://api.assemblyai.com/v2/transcript/{transcript_id}\"\n",
    "headers = {\n",
    "    \"authorization\":api_key,\n",
    "}\n",
    "transcript_output_response =  requests.get(endpoint, headers=headers)"
   ]
  },
  {
   "cell_type": "code",
   "execution_count": 19,
   "id": "0eebe69b",
   "metadata": {},
   "outputs": [
    {
     "data": {
      "text/plain": [
       "'completed'"
      ]
     },
     "execution_count": 19,
     "metadata": {},
     "output_type": "execute_result"
    }
   ],
   "source": [
    "transcript_output_response.json()['status']"
   ]
  },
  {
   "cell_type": "markdown",
   "id": "f20b5a59",
   "metadata": {},
   "source": [
    "## 7.Print Transcript text"
   ]
  },
  {
   "cell_type": "code",
   "execution_count": 20,
   "id": "749bfe6f",
   "metadata": {},
   "outputs": [
    {
     "data": {
      "text/plain": [
       "\"In this video, I'm going to show you how you could build your very first streamlit web application in Python. So the first thing that you need to do is install streamlit. And so let's create a file called app PY, three quotation opening and a three quotation closing in order to allow it to be in markdown mode. So the hashtag means the h one heading and we're making it bold. And then the second word here, we'll make it in italic and then we'll save it. And then we'll head back to run it streamlit. And then voila. You have created your very first streamlit web application in Python. If your finding value in this video, don't forget to smash the like button and also subscribe to the Data Professor YouTube channel. And I'll see you in the next video.\""
      ]
     },
     "execution_count": 20,
     "metadata": {},
     "output_type": "execute_result"
    }
   ],
   "source": [
    "transcript_output_response.json()['text']"
   ]
  },
  {
   "cell_type": "markdown",
   "id": "cc38ace1",
   "metadata": {},
   "source": [
    "## 8.Save taranscript text to file"
   ]
  },
  {
   "cell_type": "code",
   "execution_count": 21,
   "id": "cee361fb",
   "metadata": {},
   "outputs": [],
   "source": [
    "yt_text = open(\"yt.txt\", 'w')\n",
    "yt_text.write(transcript_output_response.json()['text'])\n",
    "yt_text.close()"
   ]
  },
  {
   "cell_type": "markdown",
   "id": "78961cc7",
   "metadata": {},
   "source": [
    "## 9.Save as srt File"
   ]
  },
  {
   "cell_type": "code",
   "execution_count": 23,
   "id": "6a97586b",
   "metadata": {},
   "outputs": [],
   "source": [
    "srt_endpoint = endpoint+'/srt'\n",
    "srt_response = requests.get(srt_endpoint,headers=headers)\n",
    "\n",
    "with open(\"yt.srt\", \"w\") as _file:\n",
    "    _file.write(srt_response.text)"
   ]
  },
  {
   "cell_type": "markdown",
   "id": "52160595",
   "metadata": {},
   "source": [
    "## Thanks"
   ]
  }
 ],
 "metadata": {
  "kernelspec": {
   "display_name": "Python 3 (ipykernel)",
   "language": "python",
   "name": "python3"
  },
  "language_info": {
   "codemirror_mode": {
    "name": "ipython",
    "version": 3
   },
   "file_extension": ".py",
   "mimetype": "text/x-python",
   "name": "python",
   "nbconvert_exporter": "python",
   "pygments_lexer": "ipython3",
   "version": "3.11.4"
  }
 },
 "nbformat": 4,
 "nbformat_minor": 5
}
